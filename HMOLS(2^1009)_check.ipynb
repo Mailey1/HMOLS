{
 "cells": [
  {
   "cell_type": "code",
   "execution_count": 1,
   "metadata": {},
   "outputs": [
    {
     "data": {
      "text/plain": [
       "11"
      ]
     },
     "execution_count": 1,
     "metadata": {},
     "output_type": "execute_result"
    }
   ],
   "source": [
    "import itertools\n",
    "order = 1009\n",
    "K.<a> = FiniteField(order, modulus='primitive'); K\n",
    "a"
   ]
  },
  {
   "cell_type": "code",
   "execution_count": 2,
   "metadata": {},
   "outputs": [],
   "source": [
    "def Find_Allowed_Cosets(matrix, col1, col2):\n",
    "    vec_len = len(matrix)/2\n",
    "    list1 = []\n",
    "    list2 = []\n",
    "    i = 0\n",
    "    for row in matrix:\n",
    "        x = (row[col1] - row[col2]) % 2\n",
    "        if i < vec_len:\n",
    "            list1.append(x)\n",
    "        else:\n",
    "            list2.append(x)\n",
    "        i += 1\n",
    "    bad_cosets = []\n",
    "    for i in range(len(list1)):\n",
    "        for j in range(len(list2)):\n",
    "            if list1[i] == list2[j]:\n",
    "                x = (j - i) % vec_len\n",
    "                bad_cosets.append(x)\n",
    "    allowed_cosets = []\n",
    "    for j in range(vec_len):\n",
    "        if j not in bad_cosets:\n",
    "            allowed_cosets.append(j)\n",
    "    return allowed_cosets"
   ]
  },
  {
   "cell_type": "code",
   "execution_count": 3,
   "metadata": {},
   "outputs": [],
   "source": [
    "pairs = [(y,x) for (x,y) in itertools.combinations(range(16), 2)]"
   ]
  },
  {
   "cell_type": "code",
   "execution_count": 4,
   "metadata": {},
   "outputs": [],
   "source": [
    "hadamard16 = [\n",
    "    [0,0,0,0,0,0,0,0,0,0,0,0,0,0,0,0],\n",
    "    [0,0,1,1,0,1,1,0,0,0,1,1,0,1,1,0],\n",
    "    [0,1,0,1,1,0,1,0,0,1,0,1,1,0,1,0],\n",
    "    [0,1,1,0,1,1,0,0,0,1,1,0,1,1,0,0],\n",
    "    [1,0,0,0,1,1,1,0,1,0,0,0,1,1,1,0],\n",
    "    [1,0,1,1,1,0,0,0,1,0,1,1,1,0,0,0],\n",
    "    [1,1,0,1,0,1,0,0,1,1,0,1,0,1,0,0],\n",
    "    [1,1,1,0,0,0,1,0,1,1,1,0,0,0,1,0],\n",
    "    [0,0,0,0,0,0,0,0,1,1,1,1,1,1,1,1],\n",
    "    [0,0,1,1,0,1,1,0,1,1,0,0,1,0,0,1],\n",
    "    [0,1,0,1,1,0,1,0,1,0,1,0,0,1,0,1],\n",
    "    [0,1,1,0,1,1,0,0,1,0,0,1,0,0,1,1],\n",
    "    [1,0,0,0,1,1,1,0,0,1,1,1,0,0,0,1],\n",
    "    [1,0,1,1,1,0,0,0,0,1,0,0,0,1,1,1],\n",
    "    [1,1,0,1,0,1,0,0,0,0,1,0,1,0,1,1],\n",
    "    [1,1,1,0,0,0,1,0,0,0,0,1,1,1,0,1]\n",
    "]"
   ]
  },
  {
   "cell_type": "code",
   "execution_count": 5,
   "metadata": {},
   "outputs": [],
   "source": [
    "coset_table = {}\n",
    "for pair in pairs:\n",
    "    cyc_classes = Find_Allowed_Cosets(hadamard16, pair[0], pair[1])\n",
    "    coset_table[pair] = cyc_classes"
   ]
  },
  {
   "cell_type": "code",
   "execution_count": 6,
   "metadata": {},
   "outputs": [],
   "source": [
    "C = [[a^(8*s+i) for s in range((order - 1)/8)] for i in range(8)]\n",
    "zo = a^0 - a^0\n",
    "X1 = C[0] + C[4]\n",
    "X2 = C[2] + C[6]\n",
    "X3 = C[0] + C[2] + C[4] + C[6]\n",
    "X4 = C[1] + C[3] + C[5] + C[7]\n",
    "X5 = C[0] + C[1] + C[2] + C[3] + C[4] + C[5] + C[6] + C[7]"
   ]
  },
  {
   "cell_type": "code",
   "execution_count": 7,
   "metadata": {},
   "outputs": [],
   "source": [
    "allowed_cosets = [{(8,0): X5},\n",
    "                  {(1,0): C[4], (8,1): C[0]},\n",
    "                  {(2,0): C[4], (2,1): X2, (8,2): C[0]},\n",
    "                  {(3,0): C[4], (3,1): X4, (3,2): X2, (8,3): C[0]},\n",
    "                  {(4,0): X2 , (4,1): C[4], (4,2): C[4], (4,3): C[4], (8,4): X1},\n",
    "                  {(5,0): X4, (5,1): C[4], (5,2): C[4], (5,3): C[4], (5,4): X2, (8,5): X3},\n",
    "                  {(6,0): X2, (6,1): C[4], (6,2): C[4], (6,3): C[4], (6,4): X4, (6,5): X2, (8,6): X1},\n",
    "                  {(7,0): C[4], (7,1): X2, (7,2): X4, (7,3): X2, (7,4): C[4], (7,5): C[4], (7,6): C[4], (8,7): C[0]},\n",
    "                  {},\n",
    "{(9, 0): C[0], (9, 1): X5, (9, 2): X1, (9, 3): X3, (9, 4): C[0], (9, 5): C[0], (9, 6): C[0], (9, 7): X1, (9, 8): C[4]},\n",
    "{(10, 0): C[0], (10, 1): X1, (10, 2): X5, (10, 3): X1, (10, 4): C[0], (10, 5): C[0], (10, 6): C[0], (10, 7): X3, (10, 8): C[4], (10, 9): X2},\n",
    "{(11, 0): C[0], (11, 1): X3, (11, 2): X1, (11, 3): X5, (11, 4): C[0], (11, 5): C[0], (11, 6): C[0], (11, 7): X1, (11, 8): C[4],\n",
    " (11, 9): X4, (11, 10): X2},\n",
    " {(12, 0): X1,\n",
    " (12, 1): C[0],\n",
    " (12, 2): C[0],\n",
    " (12, 3): C[0],\n",
    " (12, 4): X5,\n",
    " (12, 5): X1,\n",
    " (12, 6): X3,\n",
    " (12, 7): C[0],\n",
    " (12, 8): X2,\n",
    " (12, 9): C[4],\n",
    " (12, 10): C[4],\n",
    " (12, 11): C[4]}]"
   ]
  },
  {
   "cell_type": "code",
   "execution_count": 9,
   "metadata": {},
   "outputs": [],
   "source": [
    "# u and u' from other file\n",
    "u1 = [1, 510, 81, 865, 744, 652, 17, 765, 0, 237, 669, 91]\n",
    "v1 = [1, 687, 337, 10, 963, 575, 472, 593, 0, 179, 794, 68]"
   ]
  },
  {
   "cell_type": "code",
   "execution_count": 18,
   "metadata": {},
   "outputs": [
    {
     "name": "stdout",
     "output_type": "stream",
     "text": [
      "<type 'sage.rings.integer.Integer'>\n",
      "<type 'sage.rings.finite_rings.integer_mod.IntegerMod_int'>\n"
     ]
    }
   ],
   "source": [
    "print(type(v1[3]))\n",
    "print(type(a^1 - a^0))"
   ]
  },
  {
   "cell_type": "code",
   "execution_count": 19,
   "metadata": {},
   "outputs": [
    {
     "name": "stdout",
     "output_type": "stream",
     "text": [
      "[1, 510, 81, 865, 744, 652, 17, 765, 0, 237, 669, 91]\n",
      "[1, 687, 337, 10, 963, 575, 472, 593, 0, 179, 794, 68]\n"
     ]
    }
   ],
   "source": [
    "# Need to convert their type...\n",
    "u = []\n",
    "v = []\n",
    "for ele in u1:\n",
    "    if ele == zo:\n",
    "        u.append(zo)\n",
    "        continue\n",
    "    for i in range(order-1):\n",
    "        if a^i == ele:\n",
    "            u.append(a^i)\n",
    "for ele in v1:\n",
    "    if ele == zo:\n",
    "        v.append(zo)\n",
    "        continue\n",
    "    for i in range(order-1):\n",
    "        if a^i == ele:\n",
    "            v.append(a^i)\n",
    "print(u)\n",
    "print(v)"
   ]
  },
  {
   "cell_type": "code",
   "execution_count": 21,
   "metadata": {},
   "outputs": [],
   "source": [
    "all_tests = {}\n",
    "all_tests.update(allowed_cosets[0])\n",
    "all_tests.update(allowed_cosets[1])\n",
    "all_tests.update(allowed_cosets[2])\n",
    "all_tests.update(allowed_cosets[3])\n",
    "all_tests.update(allowed_cosets[4])\n",
    "all_tests.update(allowed_cosets[5])\n",
    "all_tests.update(allowed_cosets[6])\n",
    "all_tests.update(allowed_cosets[7])\n",
    "all_tests.update(allowed_cosets[9])\n",
    "all_tests.update(allowed_cosets[10])\n",
    "all_tests.update(allowed_cosets[11])"
   ]
  },
  {
   "cell_type": "code",
   "execution_count": 22,
   "metadata": {},
   "outputs": [],
   "source": [
    "for coord,classes in all_tests.items():\n",
    "            x = (u[coord[0]] - u[coord[1]]) * (v[coord[0]] - v[coord[1]])^(-1)\n",
    "            if x not in classes:\n",
    "                print(\"Something's wrong\")"
   ]
  }
 ],
 "metadata": {
  "kernelspec": {
   "display_name": "SageMath 8.6",
   "language": "",
   "name": "sagemath"
  },
  "language_info": {
   "codemirror_mode": {
    "name": "ipython",
    "version": 2
   },
   "file_extension": ".py",
   "mimetype": "text/x-python",
   "name": "python",
   "nbconvert_exporter": "python",
   "pygments_lexer": "ipython2",
   "version": "2.7.15"
  }
 },
 "nbformat": 4,
 "nbformat_minor": 2
}
