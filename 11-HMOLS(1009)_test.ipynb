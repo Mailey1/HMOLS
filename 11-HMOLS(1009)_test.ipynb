{
 "cells": [
  {
   "cell_type": "code",
   "execution_count": 1,
   "metadata": {},
   "outputs": [],
   "source": [
    "import itertools"
   ]
  },
  {
   "cell_type": "code",
   "execution_count": 2,
   "metadata": {},
   "outputs": [
    {
     "data": {
      "text/plain": [
       "[ 1  1| 1  1| 1  1| 1  1| 1  1| 1  1]\n",
       "[ 1 -1|-1  1|-1  1|-1  1|-1  1|-1  1]\n",
       "[-----+-----+-----+-----+-----+-----]\n",
       "[ 1 -1| 1 -1| 1  1|-1 -1|-1 -1| 1  1]\n",
       "[ 1  1|-1 -1| 1 -1|-1  1|-1  1| 1 -1]\n",
       "[-----+-----+-----+-----+-----+-----]\n",
       "[ 1 -1| 1  1| 1 -1| 1  1|-1 -1|-1 -1]\n",
       "[ 1  1| 1 -1|-1 -1| 1 -1|-1  1|-1  1]\n",
       "[-----+-----+-----+-----+-----+-----]\n",
       "[ 1 -1|-1 -1| 1  1| 1 -1| 1  1|-1 -1]\n",
       "[ 1  1|-1  1| 1 -1|-1 -1| 1 -1|-1  1]\n",
       "[-----+-----+-----+-----+-----+-----]\n",
       "[ 1 -1|-1 -1|-1 -1| 1  1| 1 -1| 1  1]\n",
       "[ 1  1|-1  1|-1  1| 1 -1|-1 -1| 1 -1]\n",
       "[-----+-----+-----+-----+-----+-----]\n",
       "[ 1 -1| 1  1|-1 -1|-1 -1| 1  1| 1 -1]\n",
       "[ 1  1| 1 -1|-1  1|-1  1| 1 -1|-1 -1]"
      ]
     },
     "execution_count": 2,
     "metadata": {},
     "output_type": "execute_result"
    }
   ],
   "source": [
    "hadamard_matrix(12)"
   ]
  },
  {
   "cell_type": "code",
   "execution_count": 3,
   "metadata": {},
   "outputs": [
    {
     "data": {
      "text/plain": [
       "[[1, 1, 1, 1, 1, 1, 1, 1, 1, 1, 1, 1],\n",
       " [1, 0, 0, 1, 0, 1, 0, 1, 0, 1, 0, 1],\n",
       " [1, 0, 1, 0, 1, 1, 0, 0, 0, 0, 1, 1],\n",
       " [1, 1, 0, 0, 1, 0, 0, 1, 0, 1, 1, 0],\n",
       " [1, 0, 1, 1, 1, 0, 1, 1, 0, 0, 0, 0],\n",
       " [1, 1, 1, 0, 0, 0, 1, 0, 0, 1, 0, 1],\n",
       " [1, 0, 0, 0, 1, 1, 1, 0, 1, 1, 0, 0],\n",
       " [1, 1, 0, 1, 1, 0, 0, 0, 1, 0, 0, 1],\n",
       " [1, 0, 0, 0, 0, 0, 1, 1, 1, 0, 1, 1],\n",
       " [1, 1, 0, 1, 0, 1, 1, 0, 0, 0, 1, 0],\n",
       " [1, 0, 1, 1, 0, 0, 0, 0, 1, 1, 1, 0],\n",
       " [1, 1, 1, 0, 0, 1, 0, 1, 1, 0, 0, 0]]"
      ]
     },
     "execution_count": 3,
     "metadata": {},
     "output_type": "execute_result"
    }
   ],
   "source": [
    "hadamard_order = 12\n",
    "H = hadamard_matrix(hadamard_order)\n",
    "hadamard = [[i for i in H[j]] for j in range(0,hadamard_order)]\n",
    "for row in hadamard:\n",
    "    for i in range(len(row)):\n",
    "        if row[i] == -1:\n",
    "            row[i] = 0\n",
    "hadamard"
   ]
  },
  {
   "cell_type": "code",
   "execution_count": 4,
   "metadata": {},
   "outputs": [],
   "source": [
    "def ToListMatrix(hadamard_matrix):\n",
    "    dim = len(hadamard_matrix[0])\n",
    "    matrix = [[i for i in hadamard_matrix[j]] for j in range(0,dim)]\n",
    "    for row in matrix:\n",
    "        for i in range(dim):\n",
    "            if row[i] == -1:\n",
    "                row[i] = 0\n",
    "    return matrix"
   ]
  },
  {
   "cell_type": "code",
   "execution_count": 5,
   "metadata": {},
   "outputs": [
    {
     "data": {
      "text/plain": [
       "[[1, 1, 1, 1, 1, 1, 1, 1, 1, 1, 1, 1],\n",
       " [1, 0, 0, 1, 0, 1, 0, 1, 0, 1, 0, 1],\n",
       " [1, 0, 1, 0, 1, 1, 0, 0, 0, 0, 1, 1],\n",
       " [1, 1, 0, 0, 1, 0, 0, 1, 0, 1, 1, 0],\n",
       " [1, 0, 1, 1, 1, 0, 1, 1, 0, 0, 0, 0],\n",
       " [1, 1, 1, 0, 0, 0, 1, 0, 0, 1, 0, 1],\n",
       " [1, 0, 0, 0, 1, 1, 1, 0, 1, 1, 0, 0],\n",
       " [1, 1, 0, 1, 1, 0, 0, 0, 1, 0, 0, 1],\n",
       " [1, 0, 0, 0, 0, 0, 1, 1, 1, 0, 1, 1],\n",
       " [1, 1, 0, 1, 0, 1, 1, 0, 0, 0, 1, 0],\n",
       " [1, 0, 1, 1, 0, 0, 0, 0, 1, 1, 1, 0],\n",
       " [1, 1, 1, 0, 0, 1, 0, 1, 1, 0, 0, 0]]"
      ]
     },
     "execution_count": 5,
     "metadata": {},
     "output_type": "execute_result"
    }
   ],
   "source": [
    "hadamard = ToListMatrix(H)\n",
    "hadamard"
   ]
  },
  {
   "cell_type": "code",
   "execution_count": 6,
   "metadata": {},
   "outputs": [
    {
     "name": "stdout",
     "output_type": "stream",
     "text": [
      "[0, 1, 1, 0, 1, 0]\n",
      "[1, 0, 1, 0, 1, 0]\n"
     ]
    },
    {
     "data": {
      "text/plain": [
       "[1, 3, 5, 5, 1, 3, 4, 0, 2, 4, 0, 2, 2, 4, 0, 2, 4, 0]"
      ]
     },
     "execution_count": 6,
     "metadata": {},
     "output_type": "execute_result"
    }
   ],
   "source": [
    "vec_len = len(hadamard)/2\n",
    "list1 = []\n",
    "list2 = []\n",
    "i = 0\n",
    "for row in hadamard:\n",
    "    x = (row[1] - row[0]) % 2\n",
    "    if i < vec_len:\n",
    "        list1.append(x)\n",
    "    else:\n",
    "        list2.append(x)\n",
    "    i += 1\n",
    "bad_cosets = []\n",
    "print(list1)\n",
    "print(list2)\n",
    "for i in range(len(list1)):\n",
    "    for j in range(len(list2)):\n",
    "        if list1[i] == list2[j]:\n",
    "            x = (j - i) % vec_len\n",
    "            bad_cosets.append(x)\n",
    "bad_cosets"
   ]
  },
  {
   "cell_type": "code",
   "execution_count": 7,
   "metadata": {},
   "outputs": [],
   "source": [
    "def Find_Allowed_Cosets(matrix, col1, col2):\n",
    "    vec_len = len(matrix)/2\n",
    "    list1 = []\n",
    "    list2 = []\n",
    "    i = 0\n",
    "    for row in matrix:\n",
    "        x = (row[col1] - row[col2]) % 2\n",
    "        if i < vec_len:\n",
    "            list1.append(x)\n",
    "        else:\n",
    "            list2.append(x)\n",
    "        i += 1\n",
    "    bad_cosets = []\n",
    "    for i in range(len(list1)):\n",
    "        for j in range(len(list2)):\n",
    "            if list1[i] == list2[j]:\n",
    "                x = (j - i) % vec_len\n",
    "                bad_cosets.append(x)\n",
    "    allowed_cosets = []\n",
    "    for j in range(vec_len):\n",
    "        if j not in bad_cosets:\n",
    "            allowed_cosets.append(j)\n",
    "    return allowed_cosets"
   ]
  },
  {
   "cell_type": "code",
   "execution_count": 8,
   "metadata": {},
   "outputs": [
    {
     "data": {
      "text/plain": [
       "[]"
      ]
     },
     "execution_count": 8,
     "metadata": {},
     "output_type": "execute_result"
    }
   ],
   "source": [
    "coset = Find_Allowed_Cosets(hadamard, 1, 0)\n",
    "coset"
   ]
  },
  {
   "cell_type": "code",
   "execution_count": 9,
   "metadata": {},
   "outputs": [],
   "source": [
    "pairs = [(y,x) for (x,y) in itertools.combinations(range(16), 2)]"
   ]
  },
  {
   "cell_type": "code",
   "execution_count": 10,
   "metadata": {},
   "outputs": [
    {
     "data": {
      "text/plain": [
       "[[0, 0, 0, 0, 0, 0, 0, 0, 0, 0, 0, 0, 0, 0, 0, 0],\n",
       " [0, 0, 1, 1, 0, 1, 1, 0, 0, 0, 1, 1, 0, 1, 1, 0],\n",
       " [0, 1, 0, 1, 1, 0, 1, 0, 0, 1, 0, 1, 1, 0, 1, 0],\n",
       " [0, 1, 1, 0, 1, 1, 0, 0, 0, 1, 1, 0, 1, 1, 0, 0],\n",
       " [1, 0, 0, 0, 1, 1, 1, 0, 1, 0, 0, 0, 1, 1, 1, 0],\n",
       " [1, 0, 1, 1, 1, 0, 0, 0, 1, 0, 1, 1, 1, 0, 0, 0],\n",
       " [1, 1, 0, 1, 0, 1, 0, 0, 1, 1, 0, 1, 0, 1, 0, 0],\n",
       " [1, 1, 1, 0, 0, 0, 1, 0, 1, 1, 1, 0, 0, 0, 1, 0],\n",
       " [0, 0, 0, 0, 0, 0, 0, 0, 1, 1, 1, 1, 1, 1, 1, 1],\n",
       " [0, 0, 1, 1, 0, 1, 1, 0, 1, 1, 0, 0, 1, 0, 0, 1],\n",
       " [0, 1, 0, 1, 1, 0, 1, 0, 1, 0, 1, 0, 0, 1, 0, 1],\n",
       " [0, 1, 1, 0, 1, 1, 0, 0, 1, 0, 0, 1, 0, 0, 1, 1],\n",
       " [1, 0, 0, 0, 1, 1, 1, 0, 0, 1, 1, 1, 0, 0, 0, 1],\n",
       " [1, 0, 1, 1, 1, 0, 0, 0, 0, 1, 0, 0, 0, 1, 1, 1],\n",
       " [1, 1, 0, 1, 0, 1, 0, 0, 0, 0, 1, 0, 1, 0, 1, 1],\n",
       " [1, 1, 1, 0, 0, 0, 1, 0, 0, 0, 0, 1, 1, 1, 0, 1]]"
      ]
     },
     "execution_count": 10,
     "metadata": {},
     "output_type": "execute_result"
    }
   ],
   "source": [
    "hadamard16 = [\n",
    "    [0,0,0,0,0,0,0,0,0,0,0,0,0,0,0,0],\n",
    "    [0,0,1,1,0,1,1,0,0,0,1,1,0,1,1,0],\n",
    "    [0,1,0,1,1,0,1,0,0,1,0,1,1,0,1,0],\n",
    "    [0,1,1,0,1,1,0,0,0,1,1,0,1,1,0,0],\n",
    "    [1,0,0,0,1,1,1,0,1,0,0,0,1,1,1,0],\n",
    "    [1,0,1,1,1,0,0,0,1,0,1,1,1,0,0,0],\n",
    "    [1,1,0,1,0,1,0,0,1,1,0,1,0,1,0,0],\n",
    "    [1,1,1,0,0,0,1,0,1,1,1,0,0,0,1,0],\n",
    "    [0,0,0,0,0,0,0,0,1,1,1,1,1,1,1,1],\n",
    "    [0,0,1,1,0,1,1,0,1,1,0,0,1,0,0,1],\n",
    "    [0,1,0,1,1,0,1,0,1,0,1,0,0,1,0,1],\n",
    "    [0,1,1,0,1,1,0,0,1,0,0,1,0,0,1,1],\n",
    "    [1,0,0,0,1,1,1,0,0,1,1,1,0,0,0,1],\n",
    "    [1,0,1,1,1,0,0,0,0,1,0,0,0,1,1,1],\n",
    "    [1,1,0,1,0,1,0,0,0,0,1,0,1,0,1,1],\n",
    "    [1,1,1,0,0,0,1,0,0,0,0,1,1,1,0,1]\n",
    "]\n",
    "hadamard16"
   ]
  },
  {
   "cell_type": "code",
   "execution_count": 11,
   "metadata": {},
   "outputs": [
    {
     "data": {
      "text/plain": [
       "[ 1  1  1  1  1  1  1  1  1  1  1  1  1  1  1  1]\n",
       "[ 1 -1  1 -1  1 -1  1 -1  1 -1  1 -1  1 -1  1 -1]\n",
       "[ 1  1 -1 -1  1  1 -1 -1  1  1 -1 -1  1  1 -1 -1]\n",
       "[ 1 -1 -1  1  1 -1 -1  1  1 -1 -1  1  1 -1 -1  1]\n",
       "[ 1  1  1  1 -1 -1 -1 -1  1  1  1  1 -1 -1 -1 -1]\n",
       "[ 1 -1  1 -1 -1  1 -1  1  1 -1  1 -1 -1  1 -1  1]\n",
       "[ 1  1 -1 -1 -1 -1  1  1  1  1 -1 -1 -1 -1  1  1]\n",
       "[ 1 -1 -1  1 -1  1  1 -1  1 -1 -1  1 -1  1  1 -1]\n",
       "[ 1  1  1  1  1  1  1  1 -1 -1 -1 -1 -1 -1 -1 -1]\n",
       "[ 1 -1  1 -1  1 -1  1 -1 -1  1 -1  1 -1  1 -1  1]\n",
       "[ 1  1 -1 -1  1  1 -1 -1 -1 -1  1  1 -1 -1  1  1]\n",
       "[ 1 -1 -1  1  1 -1 -1  1 -1  1  1 -1 -1  1  1 -1]\n",
       "[ 1  1  1  1 -1 -1 -1 -1 -1 -1 -1 -1  1  1  1  1]\n",
       "[ 1 -1  1 -1 -1  1 -1  1 -1  1 -1  1  1 -1  1 -1]\n",
       "[ 1  1 -1 -1 -1 -1  1  1 -1 -1  1  1  1  1 -1 -1]\n",
       "[ 1 -1 -1  1 -1  1  1 -1 -1  1  1 -1  1 -1 -1  1]"
      ]
     },
     "execution_count": 11,
     "metadata": {},
     "output_type": "execute_result"
    }
   ],
   "source": [
    "hadamard_matrix(16)"
   ]
  },
  {
   "cell_type": "code",
   "execution_count": 12,
   "metadata": {},
   "outputs": [],
   "source": [
    "coset_table = {}\n",
    "for pair in pairs:\n",
    "    cyc_classes = Find_Allowed_Cosets(hadamard16, pair[0], pair[1])\n",
    "    coset_table[pair] = cyc_classes"
   ]
  },
  {
   "cell_type": "code",
   "execution_count": 13,
   "metadata": {},
   "outputs": [
    {
     "data": {
      "text/plain": [
       "{(1, 0): [4],\n",
       " (2, 0): [4],\n",
       " (2, 1): [2, 6],\n",
       " (3, 0): [4],\n",
       " (3, 1): [1, 3, 5, 7],\n",
       " (3, 2): [2, 6],\n",
       " (4, 0): [2, 6],\n",
       " (4, 1): [4],\n",
       " (4, 2): [4],\n",
       " (4, 3): [4],\n",
       " (5, 0): [1, 3, 5, 7],\n",
       " (5, 1): [4],\n",
       " (5, 2): [4],\n",
       " (5, 3): [4],\n",
       " (5, 4): [2, 6],\n",
       " (6, 0): [2, 6],\n",
       " (6, 1): [4],\n",
       " (6, 2): [4],\n",
       " (6, 3): [4],\n",
       " (6, 4): [1, 3, 5, 7],\n",
       " (6, 5): [2, 6],\n",
       " (7, 0): [4],\n",
       " (7, 1): [2, 6],\n",
       " (7, 2): [1, 3, 5, 7],\n",
       " (7, 3): [2, 6],\n",
       " (7, 4): [4],\n",
       " (7, 5): [4],\n",
       " (7, 6): [4],\n",
       " (8, 0): [0, 1, 2, 3, 4, 5, 6, 7],\n",
       " (8, 1): [0],\n",
       " (8, 2): [0],\n",
       " (8, 3): [0],\n",
       " (8, 4): [0, 4],\n",
       " (8, 5): [0, 2, 4, 6],\n",
       " (8, 6): [0, 4],\n",
       " (8, 7): [0],\n",
       " (9, 0): [0],\n",
       " (9, 1): [0, 1, 2, 3, 4, 5, 6, 7],\n",
       " (9, 2): [0, 4],\n",
       " (9, 3): [0, 2, 4, 6],\n",
       " (9, 4): [0],\n",
       " (9, 5): [0],\n",
       " (9, 6): [0],\n",
       " (9, 7): [0, 4],\n",
       " (9, 8): [4],\n",
       " (10, 0): [0],\n",
       " (10, 1): [0, 4],\n",
       " (10, 2): [0, 1, 2, 3, 4, 5, 6, 7],\n",
       " (10, 3): [0, 4],\n",
       " (10, 4): [0],\n",
       " (10, 5): [0],\n",
       " (10, 6): [0],\n",
       " (10, 7): [0, 2, 4, 6],\n",
       " (10, 8): [4],\n",
       " (10, 9): [2, 6],\n",
       " (11, 0): [0],\n",
       " (11, 1): [0, 2, 4, 6],\n",
       " (11, 2): [0, 4],\n",
       " (11, 3): [0, 1, 2, 3, 4, 5, 6, 7],\n",
       " (11, 4): [0],\n",
       " (11, 5): [0],\n",
       " (11, 6): [0],\n",
       " (11, 7): [0, 4],\n",
       " (11, 8): [4],\n",
       " (11, 9): [1, 3, 5, 7],\n",
       " (11, 10): [2, 6],\n",
       " (12, 0): [0, 4],\n",
       " (12, 1): [0],\n",
       " (12, 2): [0],\n",
       " (12, 3): [0],\n",
       " (12, 4): [0, 1, 2, 3, 4, 5, 6, 7],\n",
       " (12, 5): [0, 4],\n",
       " (12, 6): [0, 2, 4, 6],\n",
       " (12, 7): [0],\n",
       " (12, 8): [2, 6],\n",
       " (12, 9): [4],\n",
       " (12, 10): [4],\n",
       " (12, 11): [4],\n",
       " (13, 0): [0, 2, 4, 6],\n",
       " (13, 1): [0],\n",
       " (13, 2): [0],\n",
       " (13, 3): [0],\n",
       " (13, 4): [0, 4],\n",
       " (13, 5): [0, 1, 2, 3, 4, 5, 6, 7],\n",
       " (13, 6): [0, 4],\n",
       " (13, 7): [0],\n",
       " (13, 8): [1, 3, 5, 7],\n",
       " (13, 9): [4],\n",
       " (13, 10): [4],\n",
       " (13, 11): [4],\n",
       " (13, 12): [2, 6],\n",
       " (14, 0): [0, 4],\n",
       " (14, 1): [0],\n",
       " (14, 2): [0],\n",
       " (14, 3): [0],\n",
       " (14, 4): [0, 2, 4, 6],\n",
       " (14, 5): [0, 4],\n",
       " (14, 6): [0, 1, 2, 3, 4, 5, 6, 7],\n",
       " (14, 7): [0],\n",
       " (14, 8): [2, 6],\n",
       " (14, 9): [4],\n",
       " (14, 10): [4],\n",
       " (14, 11): [4],\n",
       " (14, 12): [1, 3, 5, 7],\n",
       " (14, 13): [2, 6],\n",
       " (15, 0): [0],\n",
       " (15, 1): [0, 4],\n",
       " (15, 2): [0, 2, 4, 6],\n",
       " (15, 3): [0, 4],\n",
       " (15, 4): [0],\n",
       " (15, 5): [0],\n",
       " (15, 6): [0],\n",
       " (15, 7): [0, 1, 2, 3, 4, 5, 6, 7],\n",
       " (15, 8): [4],\n",
       " (15, 9): [2, 6],\n",
       " (15, 10): [1, 3, 5, 7],\n",
       " (15, 11): [2, 6],\n",
       " (15, 12): [4],\n",
       " (15, 13): [4],\n",
       " (15, 14): [4]}"
      ]
     },
     "execution_count": 13,
     "metadata": {},
     "output_type": "execute_result"
    }
   ],
   "source": [
    "coset_table"
   ]
  },
  {
   "cell_type": "code",
   "execution_count": 1,
   "metadata": {},
   "outputs": [
    {
     "data": {
      "text/plain": [
       "11"
      ]
     },
     "execution_count": 1,
     "metadata": {},
     "output_type": "execute_result"
    }
   ],
   "source": [
    "import random\n",
    "order = 1009\n",
    "K.<a> = FiniteField(order, modulus='primitive'); K\n",
    "a"
   ]
  },
  {
   "cell_type": "code",
   "execution_count": 15,
   "metadata": {},
   "outputs": [],
   "source": [
    "C = [[a^(8*s+i) for s in range((order - 1)/8)] for i in range(8)]"
   ]
  },
  {
   "cell_type": "code",
   "execution_count": 16,
   "metadata": {},
   "outputs": [],
   "source": [
    "zo = a^0 - a^0"
   ]
  },
  {
   "cell_type": "code",
   "execution_count": 2,
   "metadata": {},
   "outputs": [
    {
     "ename": "NameError",
     "evalue": "name 'C' is not defined",
     "output_type": "error",
     "traceback": [
      "\u001b[0;31m---------------------------------------------------------------------------\u001b[0m",
      "\u001b[0;31mNameError\u001b[0m                                 Traceback (most recent call last)",
      "\u001b[0;32m<ipython-input-2-e83a78fcb1d2>\u001b[0m in \u001b[0;36m<module>\u001b[0;34m()\u001b[0m\n\u001b[0;32m----> 1\u001b[0;31m \u001b[0mX1\u001b[0m \u001b[0;34m=\u001b[0m \u001b[0mC\u001b[0m\u001b[0;34m[\u001b[0m\u001b[0mInteger\u001b[0m\u001b[0;34m(\u001b[0m\u001b[0;36m0\u001b[0m\u001b[0;34m)\u001b[0m\u001b[0;34m]\u001b[0m \u001b[0;34m+\u001b[0m \u001b[0mC\u001b[0m\u001b[0;34m[\u001b[0m\u001b[0mInteger\u001b[0m\u001b[0;34m(\u001b[0m\u001b[0;36m4\u001b[0m\u001b[0;34m)\u001b[0m\u001b[0;34m]\u001b[0m\u001b[0;34m\u001b[0m\u001b[0m\n\u001b[0m\u001b[1;32m      2\u001b[0m \u001b[0mX2\u001b[0m \u001b[0;34m=\u001b[0m \u001b[0mC\u001b[0m\u001b[0;34m[\u001b[0m\u001b[0mInteger\u001b[0m\u001b[0;34m(\u001b[0m\u001b[0;36m2\u001b[0m\u001b[0;34m)\u001b[0m\u001b[0;34m]\u001b[0m \u001b[0;34m+\u001b[0m \u001b[0mC\u001b[0m\u001b[0;34m[\u001b[0m\u001b[0mInteger\u001b[0m\u001b[0;34m(\u001b[0m\u001b[0;36m6\u001b[0m\u001b[0;34m)\u001b[0m\u001b[0;34m]\u001b[0m\u001b[0;34m\u001b[0m\u001b[0m\n\u001b[1;32m      3\u001b[0m \u001b[0mX3\u001b[0m \u001b[0;34m=\u001b[0m \u001b[0mC\u001b[0m\u001b[0;34m[\u001b[0m\u001b[0mInteger\u001b[0m\u001b[0;34m(\u001b[0m\u001b[0;36m0\u001b[0m\u001b[0;34m)\u001b[0m\u001b[0;34m]\u001b[0m \u001b[0;34m+\u001b[0m \u001b[0mC\u001b[0m\u001b[0;34m[\u001b[0m\u001b[0mInteger\u001b[0m\u001b[0;34m(\u001b[0m\u001b[0;36m2\u001b[0m\u001b[0;34m)\u001b[0m\u001b[0;34m]\u001b[0m \u001b[0;34m+\u001b[0m \u001b[0mC\u001b[0m\u001b[0;34m[\u001b[0m\u001b[0mInteger\u001b[0m\u001b[0;34m(\u001b[0m\u001b[0;36m4\u001b[0m\u001b[0;34m)\u001b[0m\u001b[0;34m]\u001b[0m \u001b[0;34m+\u001b[0m \u001b[0mC\u001b[0m\u001b[0;34m[\u001b[0m\u001b[0mInteger\u001b[0m\u001b[0;34m(\u001b[0m\u001b[0;36m6\u001b[0m\u001b[0;34m)\u001b[0m\u001b[0;34m]\u001b[0m\u001b[0;34m\u001b[0m\u001b[0m\n\u001b[1;32m      4\u001b[0m \u001b[0mX4\u001b[0m \u001b[0;34m=\u001b[0m \u001b[0mC\u001b[0m\u001b[0;34m[\u001b[0m\u001b[0mInteger\u001b[0m\u001b[0;34m(\u001b[0m\u001b[0;36m1\u001b[0m\u001b[0;34m)\u001b[0m\u001b[0;34m]\u001b[0m \u001b[0;34m+\u001b[0m \u001b[0mC\u001b[0m\u001b[0;34m[\u001b[0m\u001b[0mInteger\u001b[0m\u001b[0;34m(\u001b[0m\u001b[0;36m3\u001b[0m\u001b[0;34m)\u001b[0m\u001b[0;34m]\u001b[0m \u001b[0;34m+\u001b[0m \u001b[0mC\u001b[0m\u001b[0;34m[\u001b[0m\u001b[0mInteger\u001b[0m\u001b[0;34m(\u001b[0m\u001b[0;36m5\u001b[0m\u001b[0;34m)\u001b[0m\u001b[0;34m]\u001b[0m \u001b[0;34m+\u001b[0m \u001b[0mC\u001b[0m\u001b[0;34m[\u001b[0m\u001b[0mInteger\u001b[0m\u001b[0;34m(\u001b[0m\u001b[0;36m7\u001b[0m\u001b[0;34m)\u001b[0m\u001b[0;34m]\u001b[0m\u001b[0;34m\u001b[0m\u001b[0m\n\u001b[1;32m      5\u001b[0m \u001b[0mX5\u001b[0m \u001b[0;34m=\u001b[0m \u001b[0mC\u001b[0m\u001b[0;34m[\u001b[0m\u001b[0mInteger\u001b[0m\u001b[0;34m(\u001b[0m\u001b[0;36m0\u001b[0m\u001b[0;34m)\u001b[0m\u001b[0;34m]\u001b[0m \u001b[0;34m+\u001b[0m \u001b[0mC\u001b[0m\u001b[0;34m[\u001b[0m\u001b[0mInteger\u001b[0m\u001b[0;34m(\u001b[0m\u001b[0;36m1\u001b[0m\u001b[0;34m)\u001b[0m\u001b[0;34m]\u001b[0m \u001b[0;34m+\u001b[0m \u001b[0mC\u001b[0m\u001b[0;34m[\u001b[0m\u001b[0mInteger\u001b[0m\u001b[0;34m(\u001b[0m\u001b[0;36m2\u001b[0m\u001b[0;34m)\u001b[0m\u001b[0;34m]\u001b[0m \u001b[0;34m+\u001b[0m \u001b[0mC\u001b[0m\u001b[0;34m[\u001b[0m\u001b[0mInteger\u001b[0m\u001b[0;34m(\u001b[0m\u001b[0;36m3\u001b[0m\u001b[0;34m)\u001b[0m\u001b[0;34m]\u001b[0m \u001b[0;34m+\u001b[0m \u001b[0mC\u001b[0m\u001b[0;34m[\u001b[0m\u001b[0mInteger\u001b[0m\u001b[0;34m(\u001b[0m\u001b[0;36m4\u001b[0m\u001b[0;34m)\u001b[0m\u001b[0;34m]\u001b[0m \u001b[0;34m+\u001b[0m \u001b[0mC\u001b[0m\u001b[0;34m[\u001b[0m\u001b[0mInteger\u001b[0m\u001b[0;34m(\u001b[0m\u001b[0;36m5\u001b[0m\u001b[0;34m)\u001b[0m\u001b[0;34m]\u001b[0m \u001b[0;34m+\u001b[0m \u001b[0mC\u001b[0m\u001b[0;34m[\u001b[0m\u001b[0mInteger\u001b[0m\u001b[0;34m(\u001b[0m\u001b[0;36m6\u001b[0m\u001b[0;34m)\u001b[0m\u001b[0;34m]\u001b[0m \u001b[0;34m+\u001b[0m \u001b[0mC\u001b[0m\u001b[0;34m[\u001b[0m\u001b[0mInteger\u001b[0m\u001b[0;34m(\u001b[0m\u001b[0;36m7\u001b[0m\u001b[0;34m)\u001b[0m\u001b[0;34m]\u001b[0m\u001b[0;34m\u001b[0m\u001b[0m\n",
      "\u001b[0;31mNameError\u001b[0m: name 'C' is not defined"
     ]
    }
   ],
   "source": [
    "X1 = C[0] + C[4]\n",
    "X2 = C[2] + C[6]\n",
    "X3 = C[0] + C[2] + C[4] + C[6]\n",
    "X4 = C[1] + C[3] + C[5] + C[7]\n",
    "X5 = C[0] + C[1] + C[2] + C[3] + C[4] + C[5] + C[6] + C[7]"
   ]
  },
  {
   "cell_type": "code",
   "execution_count": 18,
   "metadata": {},
   "outputs": [],
   "source": [
    "allowed_cosets = [{(8,0): X5},\n",
    "                  {(1,0): C[4], (8,1): C[0]},\n",
    "                  {(2,0): C[4], (2,1): X2, (8,2): C[0]},\n",
    "                  {(3,0): C[4], (3,1): X4, (3,2): X2, (8,3): C[0]},\n",
    "                  {(4,0): X2 , (4,1): C[4], (4,2): C[4], (4,3): C[4], (8,4): X1},\n",
    "                  {(5,0): X4, (5,1): C[4], (5,2): C[4], (5,3): C[4], (5,4): X2, (8,5): X3},\n",
    "                  {(6,0): X2, (6,1): C[4], (6,2): C[4], (6,3): C[4], (6,4): X4, (6,5): X2, (8,6): X1},\n",
    "                  {(7,0): C[4], (7,1): X2, (7,2): X4, (7,3): X2, (7,4): C[4], (7,5): C[4], (7,6): C[4], (8,7): C[0]},\n",
    "                  {},\n",
    "{(9, 0): C[0], (9, 1): X5, (9, 2): X1, (9, 3): X3, (9, 4): C[0], (9, 5): C[0], (9, 6): C[0], (9, 7): X1, (9, 8): C[4]},\n",
    "{(10, 0): C[0], (10, 1): X1, (10, 2): X5, (10, 3): X1, (10, 4): C[0], (10, 5): C[0], (10, 6): C[0], (10, 7): X3, (10, 8): C[4], (10, 9): X2},\n",
    "{(11, 0): C[0], (11, 1): X3, (11, 2): X1, (11, 3): X5, (11, 4): C[0], (11, 5): C[0], (11, 6): C[0], (11, 7): X1, (11, 8): C[4],\n",
    " (11, 9): X4, (11, 10): X2},\n",
    " {(12, 0): X1,\n",
    " (12, 1): C[0],\n",
    " (12, 2): C[0],\n",
    " (12, 3): C[0],\n",
    " (12, 4): X5,\n",
    " (12, 5): X1,\n",
    " (12, 6): X3,\n",
    " (12, 7): C[0],\n",
    " (12, 8): X2,\n",
    " (12, 9): C[4],\n",
    " (12, 10): C[4],\n",
    " (12, 11): C[4]}]"
   ]
  },
  {
   "cell_type": "code",
   "execution_count": 19,
   "metadata": {},
   "outputs": [],
   "source": [
    "# Function to build next coordinate for each vector pairs. Once q gets large, will probably have to make it return a small \n",
    "# subset of all the possible extensions.\n",
    "# Expects 0 < coordinate < 7, and vector_pairs to be a list of tuples containing 2 lists (vectors) with 8 coordinates.\n",
    "def Build_Next_Coordinate(coordinate, vector_pairs, num_extensions, max_iterations):\n",
    "    coordinate_tests = allowed_cosets[coordinate]\n",
    "    new_vector_pairs = []\n",
    "    random.shuffle(vector_pairs)\n",
    "    count = 0\n",
    "    mod = len(vector_pairs)\n",
    "    # Limit size of the returned list to be num_extensions\n",
    "    while len(new_vector_pairs) < num_extensions:\n",
    "        if count > max_iterations:\n",
    "            break\n",
    "        pair = count % mod                            # In case we need wrap around\n",
    "        vector_pair = vector_pairs[pair]\n",
    "        u = vector_pair[0]\n",
    "        up = vector_pair[1]\n",
    "        \n",
    "        # Build new vectors for each pair of elements, and lets limit each pair to be extended at most 50 times.\n",
    "        enum = 0\n",
    "        random.shuffle(element_pairs)\n",
    "        for element_pair in element_pairs:\n",
    "            if enum > 50:\n",
    "                break\n",
    "            passed = True\n",
    "            u[coordinate] = 0\n",
    "            up[coordinate] = 0\n",
    "            if (element_pair[0] in u or element_pair[1] in up):\n",
    "                continue\n",
    "            \n",
    "            u[coordinate] = element_pair[0]\n",
    "            up[coordinate] = element_pair[1]\n",
    "            # Test if the new vector satisfies the constraints\n",
    "            for coord, classes in coordinate_tests.items():\n",
    "                x = (u[coord[0]] - u[coord[1]]) * (up[coord[0]] - up[coord[1]])^(-1)\n",
    "                if x not in classes:\n",
    "                    passed = False\n",
    "                    break\n",
    "            # Add the pair to the new list if they pass all tests\n",
    "            if passed:\n",
    "                new_vector_pairs.append((u[:], up[:]))\n",
    "                enum += 1\n",
    "        count += 1\n",
    "    return new_vector_pairs"
   ]
  },
  {
   "cell_type": "code",
   "execution_count": 21,
   "metadata": {},
   "outputs": [
    {
     "data": {
      "text/plain": [
       "1014049"
      ]
     },
     "execution_count": 21,
     "metadata": {},
     "output_type": "execute_result"
    }
   ],
   "source": [
    "non_01_elements = [a^i for i in range(1,order-1)]\n",
    "element_pairs = [pair for pair in itertools.product(non_01_elements, non_01_elements)]\n",
    "len(element_pairs)"
   ]
  },
  {
   "cell_type": "code",
   "execution_count": 22,
   "metadata": {},
   "outputs": [],
   "source": [
    "good_pairs = [([a^0,0,0,0,0,0,0,0,zo,0,0,0], [1,0,0,0,0,0,0,0,zo,0,0,0])]\n",
    "next_pairs = good_pairs[:]\n",
    "for i in [1,2,3,4,5,6,7]:\n",
    "    next_pairs = Build_Next_Coordinate(i, next_pairs, 1000, 1000)\n",
    "    if len(next_pairs) == 0:\n",
    "        print(\"Failure\")\n",
    "        break\n",
    "for i in [9,10,11]:\n",
    "    next_pairs = Build_Next_Coordinate(i, next_pairs, 500, 500)\n",
    "    if len(next_pairs) == 0:\n",
    "        print(\"Failure\")\n",
    "        break"
   ]
  },
  {
   "cell_type": "code",
   "execution_count": 24,
   "metadata": {},
   "outputs": [
    {
     "name": "stdout",
     "output_type": "stream",
     "text": [
      "43\n"
     ]
    },
    {
     "data": {
      "text/plain": [
       "([1, 510, 81, 865, 744, 652, 17, 765, 0, 237, 669, 91],\n",
       " [1, 687, 337, 10, 963, 575, 472, 593, 0, 179, 794, 68])"
      ]
     },
     "execution_count": 24,
     "metadata": {},
     "output_type": "execute_result"
    }
   ],
   "source": [
    "print(len(next_pairs))\n",
    "next_pairs[13]"
   ]
  },
  {
   "cell_type": "code",
   "execution_count": 25,
   "metadata": {},
   "outputs": [],
   "source": [
    "testlen13 = []\n",
    "for vec_pair in next_pairs:\n",
    "    testlen13.append((vec_pair[0] + [0], vec_pair[1] + [0]))\n",
    "testlen13 = Build_Next_Coordinate(12, testlen13, 100, 50)"
   ]
  },
  {
   "cell_type": "code",
   "execution_count": 26,
   "metadata": {},
   "outputs": [
    {
     "data": {
      "text/plain": [
       "0"
      ]
     },
     "execution_count": 26,
     "metadata": {},
     "output_type": "execute_result"
    }
   ],
   "source": [
    "len(testlen13)"
   ]
  }
 ],
 "metadata": {
  "kernelspec": {
   "display_name": "SageMath 8.6",
   "language": "",
   "name": "sagemath"
  },
  "language_info": {
   "codemirror_mode": {
    "name": "ipython",
    "version": 2
   },
   "file_extension": ".py",
   "mimetype": "text/x-python",
   "name": "python",
   "nbconvert_exporter": "python",
   "pygments_lexer": "ipython2",
   "version": "2.7.15"
  }
 },
 "nbformat": 4,
 "nbformat_minor": 2
}
